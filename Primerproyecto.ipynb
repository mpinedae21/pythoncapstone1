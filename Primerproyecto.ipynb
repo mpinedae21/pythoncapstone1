{
  "nbformat": 4,
  "nbformat_minor": 0,
  "metadata": {
    "colab": {
      "provenance": [],
      "authorship_tag": "ABX9TyN+mjT99o2mZy5+wFRKeqPg",
      "include_colab_link": true
    },
    "kernelspec": {
      "name": "python3",
      "display_name": "Python 3"
    },
    "language_info": {
      "name": "python"
    }
  },
  "cells": [
    {
      "cell_type": "markdown",
      "metadata": {
        "id": "view-in-github",
        "colab_type": "text"
      },
      "source": [
        "<a href=\"https://colab.research.google.com/github/mpinedae21/pythoncapstone1/blob/main/Primerproyecto.ipynb\" target=\"_parent\"><img src=\"https://colab.research.google.com/assets/colab-badge.svg\" alt=\"Open In Colab\"/></a>"
      ]
    },
    {
      "cell_type": "code",
      "source": [
        "# Cuaderno de primer proyecto en Python"
      ],
      "metadata": {
        "id": "pQWOySwl76L3"
      },
      "execution_count": null,
      "outputs": []
    },
    {
      "cell_type": "code",
      "source": [
        "#Este cuaderno de Ciencia de Datos con Python proporciona ejemplos y explicaciones prácticas sobre diversos temas relacionados con el análisis de datos,\n",
        "# visualización y aprendizaje automático. Desde expresiones aritméticas simples hasta el uso de bibliotecas avanzadas como NumPy, Pandas y Scikit-learn,\n",
        "#este cuaderno está diseñado para ayudarte a adentrarte en el emocionante mundo de la ciencia de datos utilizando el lenguaje de programación Python. Exploraremos ejemplos prácticos y ejercicios para consolidar los conceptos presentados. ¡Comencemos nuestro viaje en el análisis y manipulación de datos con Python!\n",
        "\n",
        "\n",
        "\n",
        "\n"
      ],
      "metadata": {
        "id": "CVhFHwjP8FbW"
      },
      "execution_count": null,
      "outputs": []
    },
    {
      "cell_type": "code",
      "source": [],
      "metadata": {
        "id": "XLJhFw_F8NUv"
      },
      "execution_count": null,
      "outputs": []
    },
    {
      "cell_type": "code",
      "execution_count": 8,
      "metadata": {
        "colab": {
          "base_uri": "https://localhost:8080/",
          "height": 140
        },
        "id": "wlbfqU6S5H-E",
        "outputId": "1bd5ff3d-669b-435b-f778-bc2a9e171101"
      },
      "outputs": [
        {
          "output_type": "error",
          "ename": "SyntaxError",
          "evalue": "ignored",
          "traceback": [
            "\u001b[0;36m  File \u001b[0;32m\"<ipython-input-8-e49d22f0ec9b>\"\u001b[0;36m, line \u001b[0;32m36\u001b[0m\n\u001b[0;31m    |# Herramienta                | Descripción                                            | Sitio Web                            |\u001b[0m\n\u001b[0m    ^\u001b[0m\n\u001b[0;31mSyntaxError\u001b[0m\u001b[0;31m:\u001b[0m invalid syntax\n"
          ]
        }
      ],
      "source": [
        "\n",
        "\n",
        "### Bibliotecas de Ciencia de Datos en Python\n",
        "\n",
        "import numpy as np\n",
        "\n",
        "\n",
        "### Lenguajes de la Ciencia de Datos\n",
        "\n",
        "1. ##Python:\n",
        "   ## Python es uno de los lenguajes más populares en ciencia de datos debido a su sintaxis clara, extensas bibliotecas y comunidad activa.\n",
        "   # Bibliotecas clave: NumPy, Pandas, Matplotlib, Seaborn, Scikit-learn, TensorFlow, PyTorch, entre otras.\n",
        "\n",
        "2. ##R:##\n",
        "   # R es un lenguaje estadístico ampliamente utilizado en análisis y visualización de datos.\n",
        "   # Paquetes clave: ggplot2, dplyr, tidyr, caret, entre otros.\n",
        "\n",
        "3. # SQL\n",
        "   #  SQL (Structured Query Language) se utiliza para la gestión y consulta de bases de datos.\n",
        "   #  Es esencial para trabajar con bases de datos relacionales en entornos de ciencia de datos.\n",
        "\n",
        "4. # Julia\n",
        "   # Julia es un lenguaje de programación de alto rendimiento diseñado específicamente para computación técnica y científica.\n",
        "\n",
        "5. # Scala\n",
        "   # Scala, con Spark, es utilizado para procesamiento de datos a gran escala y análisis en entornos distribuidos.\n",
        "\n",
        "6. #MATLAB\n",
        "   # MATLAB es utilizado en ámbitos académicos e industriales para análisis numérico, modelado y simulación.\n",
        "\n",
        "7. #JAVA\n",
        "#  Java, junto con bibliotecas como Apache Hadoop, es utilizado para procesamiento de datos a gran escala.\n",
        "\n",
        "8. #C+\n",
        "   # C++ se utiliza en implementaciones de algoritmos y bibliotecas de alto rendimiento en ciencia de datos.\n",
        "\n",
        "\n",
        "|# Herramienta                | Descripción                                            | Sitio Web                            |\n",
        "|----------------------------|--------------------------------------------------------|--------------------------------------|\n",
        "| # Jupyter Notebooks**       | Entorno interactivo para desarrollo y análisis de datos | [Jupyter](https://jupyter.org/)      |\n",
        "| # RStudio**                 | IDE especializado para R                                | [RStudio](https://www.rstudio.com/)  |\n",
        "| # Spyder**                  | IDE para Python con enfoque en ciencia de datos         | [Spyder](https://www.spyder-ide.org/)|\n",
        "| # Tableau**                 | Herramienta de visualización y análisis de datos        | [Tableau](https://www.tableau.com/) |\n",
        "| # Power BI**                | Plataforma de análisis de negocios de Microsoft         | [Power BI](https://powerbi.microsoft.com/) |\n",
        "| # Apache Hadoop**           | Marco para procesamiento distribuido de datos          | [Apache Hadoop](http://hadoop.apache.org/) |\n",
        "| # Apache Spark**            | Motor de análisis de datos en clúster                   | [Apache Spark](https://spark.apache.org/) |\n",
        "| # Git**                     | Sistema de control de versiones                         | [Git](https://git-scm.com/)          |\n",
        "| # Docker**                  | Plataforma para desarrollar, enviar y ejecutar aplicaciones en contenedores | [Docker](https://www.docker.com/)   |\n",
        "|# Anaconda**                | Distribución de Python y R para ciencia de datos        | [Anaconda](https://www.anaconda.com/)|\n",
        "| # Kaggle**                  | Plataforma en línea para competiciones de ciencia de datos y conjuntos de datos | [Kaggle](https://www.kaggle.com/) |\n",
        "| # Google Colab**            | Entorno de notebooks basado en la nube de Google        | [Google Colab](https://colab.research.google.com/) |\n",
        "| # IBM Watson Studio**       | Plataforma de ciencia de datos y aprendizaje automático en la nube | [IBM Watson Studio](https://www.ibm.com/cloud/watson-studio) |\n",
        "| # RapidMiner**              | Herramienta de ciencia de datos y aprendizaje automático con interfaz gráfica | [RapidMiner](https://www.rapidminer.com/) |\n",
        "| # KNIME**                   | Plataforma de análisis de datos con interfaz gráfica    | [KNIME](https://www.knime.com/)     |\n",
        "\n",
        "\n",
        "[11]\n",
        "0 s\n",
        "10 - 4\n",
        "output\n",
        "6\n",
        "[ ]\n",
        "# Estas herramientas abarcan desde entornos de desarrollo y análisis hasta plataformas de visualización y procesamiento de datos a gran escala.\n"
      ]
    },
    {
      "cell_type": "code",
      "source": [
        "10 - 4"
      ],
      "metadata": {
        "colab": {
          "base_uri": "https://localhost:8080/"
        },
        "id": "qkPpZrXe6zEM",
        "outputId": "08179999-8d32-4d66-cca9-6ea2106712d8"
      },
      "execution_count": 11,
      "outputs": [
        {
          "output_type": "execute_result",
          "data": {
            "text/plain": [
              "6"
            ]
          },
          "metadata": {},
          "execution_count": 11
        }
      ]
    },
    {
      "cell_type": "code",
      "source": [
        " (5 + 3)"
      ],
      "metadata": {
        "colab": {
          "base_uri": "https://localhost:8080/"
        },
        "id": "Xlt_vIbF6tLq",
        "outputId": "117eaf63-07ff-432d-b60a-b32ddae3ca35"
      },
      "execution_count": 10,
      "outputs": [
        {
          "output_type": "execute_result",
          "data": {
            "text/plain": [
              "8"
            ]
          },
          "metadata": {},
          "execution_count": 10
        }
      ]
    },
    {
      "cell_type": "code",
      "source": [
        "3 * 7"
      ],
      "metadata": {
        "colab": {
          "base_uri": "https://localhost:8080/"
        },
        "id": "46kc6dmd62Yo",
        "outputId": "d9a0a88a-daaa-44c6-c7e0-e2e57d12ee2f"
      },
      "execution_count": 12,
      "outputs": [
        {
          "output_type": "execute_result",
          "data": {
            "text/plain": [
              "21"
            ]
          },
          "metadata": {},
          "execution_count": 12
        }
      ]
    },
    {
      "cell_type": "code",
      "source": [
        "15 / 3"
      ],
      "metadata": {
        "colab": {
          "base_uri": "https://localhost:8080/"
        },
        "id": "P5N3uMxw64n7",
        "outputId": "614cac51-993b-402a-a530-d8867cc39708"
      },
      "execution_count": 13,
      "outputs": [
        {
          "output_type": "execute_result",
          "data": {
            "text/plain": [
              "5.0"
            ]
          },
          "metadata": {},
          "execution_count": 13
        }
      ]
    },
    {
      "cell_type": "code",
      "source": [
        "2 ** 4"
      ],
      "metadata": {
        "colab": {
          "base_uri": "https://localhost:8080/"
        },
        "id": "pvDyIz5467bL",
        "outputId": "e930cbe7-e289-4d81-966e-000613d1582d"
      },
      "execution_count": 14,
      "outputs": [
        {
          "output_type": "execute_result",
          "data": {
            "text/plain": [
              "16"
            ]
          },
          "metadata": {},
          "execution_count": 14
        }
      ]
    },
    {
      "cell_type": "code",
      "source": [
        "17 // 5"
      ],
      "metadata": {
        "colab": {
          "base_uri": "https://localhost:8080/"
        },
        "id": "Tgn71_yv69V4",
        "outputId": "04e9ec30-eadc-4dc6-8737-ae7a6583f5e1"
      },
      "execution_count": 15,
      "outputs": [
        {
          "output_type": "execute_result",
          "data": {
            "text/plain": [
              "3"
            ]
          },
          "metadata": {},
          "execution_count": 15
        }
      ]
    },
    {
      "cell_type": "code",
      "source": [
        "17 % 5"
      ],
      "metadata": {
        "colab": {
          "base_uri": "https://localhost:8080/"
        },
        "id": "ZGWlv4Fx6_cJ",
        "outputId": "026df941-9677-4c4f-8c17-879e8eb70880"
      },
      "execution_count": 16,
      "outputs": [
        {
          "output_type": "execute_result",
          "data": {
            "text/plain": [
              "2"
            ]
          },
          "metadata": {},
          "execution_count": 16
        }
      ]
    },
    {
      "cell_type": "code",
      "source": [
        "2 + 3 * 4"
      ],
      "metadata": {
        "colab": {
          "base_uri": "https://localhost:8080/"
        },
        "id": "f9zauZpC7CmF",
        "outputId": "c6ea0ede-25ff-454c-e5e3-28f600c62547"
      },
      "execution_count": 17,
      "outputs": [
        {
          "output_type": "execute_result",
          "data": {
            "text/plain": [
              "14"
            ]
          },
          "metadata": {},
          "execution_count": 17
        }
      ]
    },
    {
      "cell_type": "code",
      "source": [
        "# Función para convertir minutos en horas\n",
        "def convertir_minutos_a_horas(minutos):\n",
        "    horas = minutos / 60\n",
        "    return horas\n",
        "\n",
        "# Ejemplo de uso\n",
        "minutos_input = 120\n",
        "horas_resultado = convertir_minutos_a_horas(minutos_input)\n",
        "\n",
        "print(f\"{minutos_input} minutos equivalen a {horas_resultado} horas.\")\n"
      ],
      "metadata": {
        "colab": {
          "base_uri": "https://localhost:8080/"
        },
        "id": "eXnXu8DA7DuR",
        "outputId": "39259bef-4a77-4407-f133-dc20ba6f3086"
      },
      "execution_count": 18,
      "outputs": [
        {
          "output_type": "stream",
          "name": "stdout",
          "text": [
            "120 minutos equivalen a 2.0 horas.\n"
          ]
        }
      ]
    },
    {
      "cell_type": "code",
      "source": [
        "# Lista de Objetivos\n",
        "objetivos = [\n",
        "    \"Mejorar las habilidades en ciencia de datos.\",\n",
        "    \"Aplicar algoritmos de aprendizaje automático en proyectos prácticos.\",\n",
        "    \"Desarrollar competencias en análisis exploratorio de datos.\",\n",
        "    \"Dominar el uso de bibliotecas populares como Pandas, NumPy, y Matplotlib.\",\n",
        "    \"Participar en competiciones de ciencia de datos para aplicar conocimientos.\",\n",
        "    \"Explorar nuevas técnicas y enfoques en el campo de la inteligencia artificial.\",\n",
        "    \"Colaborar en proyectos multidisciplinarios que involucren datos y análisis.\",\n",
        "]\n",
        "\n",
        "# Imprimir los objetivos\n",
        "print(\"Objetivos de Aprendizaje en Ciencia de Datos:\")\n",
        "for i, objetivo in enumerate(objetivos, 1):\n",
        "    print(f\"{i}. {objetivo}\")\n"
      ],
      "metadata": {
        "id": "0BpU39Ml7D3R"
      },
      "execution_count": null,
      "outputs": []
    },
    {
      "cell_type": "code",
      "source": [
        "# El contenido de este documento fue creado por Marcio Pineda"
      ],
      "metadata": {
        "id": "4zsCNMsf7Z5l"
      },
      "execution_count": null,
      "outputs": []
    },
    {
      "cell_type": "code",
      "source": [],
      "metadata": {
        "id": "X9kf0jUi7nei"
      },
      "execution_count": null,
      "outputs": []
    }
  ]
}